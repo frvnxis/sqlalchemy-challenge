{
 "cells": [
  {
   "cell_type": "code",
   "execution_count": null,
   "id": "06a09357",
   "metadata": {},
   "outputs": [],
   "source": [
    "import pandas as pd\n",
    "from datetime import datetime as dt\n",
    "from scipy iport stats"
   ]
  },
  {
   "cell_type": "code",
   "execution_count": null,
   "id": "c8007b71",
   "metadata": {},
   "outputs": [],
   "source": [
    "hawaii_df = pd.read_csv('SQL_Resources\\hawaii_measurements.csv')\n",
    "hawaii_df.head()"
   ]
  },
  {
   "cell_type": "code",
   "execution_count": null,
   "id": "30a3c2fd",
   "metadata": {},
   "outputs": [],
   "source": [
    "#Converting date coloum format from sting to time\n",
    "\n",
    "hawaii_df.date = pd.to_datetime(hawaii_df.date, infer_datetime_format=True)"
   ]
  },
  {
   "cell_type": "code",
   "execution_count": null,
   "id": "b516f055",
   "metadata": {},
   "outputs": [],
   "source": [
    "hawaii_df = hawaii_df.set_index(hawaii_df['date'])\n",
    "hawaii_df.head()"
   ]
  },
  {
   "cell_type": "code",
   "execution_count": null,
   "id": "e6c0667e",
   "metadata": {},
   "outputs": [],
   "source": [
    "#Colum Date\n",
    "hawaii_df = hawaii_df.drop(columns='date')\n",
    "hawaii_df.head()"
   ]
  },
  {
   "cell_type": "code",
   "execution_count": null,
   "id": "a1ed172d",
   "metadata": {},
   "outputs": [],
   "source": [
    "juneData = hawaii_df[hawaii_df.index.month == 6]\n",
    "juneData.head()"
   ]
  },
  {
   "cell_type": "code",
   "execution_count": null,
   "id": "8d6fe6ea",
   "metadata": {},
   "outputs": [],
   "source": [
    "decemberData = hawaii_df[hawaii_df.index.month == 12]\n",
    "decemberData.head()"
   ]
  },
  {
   "cell_type": "code",
   "execution_count": null,
   "id": "b0d55b12",
   "metadata": {},
   "outputs": [],
   "source": [
    "juneData.mean()"
   ]
  },
  {
   "cell_type": "code",
   "execution_count": null,
   "id": "c3c420c9",
   "metadata": {},
   "outputs": [],
   "source": [
    "decemberData.mean()"
   ]
  },
  {
   "cell_type": "code",
   "execution_count": null,
   "id": "d1d7aaaa",
   "metadata": {},
   "outputs": [],
   "source": [
    "juneTemp = juneData.tobs\n",
    "juneTemp"
   ]
  },
  {
   "cell_type": "code",
   "execution_count": null,
   "id": "fc8b9fba",
   "metadata": {},
   "outputs": [],
   "source": [
    "decemberTemp = decemberData.tobs\n",
    "decemberTemp"
   ]
  },
  {
   "cell_type": "code",
   "execution_count": null,
   "id": "7ed9e030",
   "metadata": {},
   "outputs": [],
   "source": [
    "stats.ttest_ind(juneTemp,decemberTemp)"
   ]
  }
 ],
 "metadata": {
  "kernelspec": {
   "display_name": "Python 3 (ipykernel)",
   "language": "python",
   "name": "python3"
  },
  "language_info": {
   "codemirror_mode": {
    "name": "ipython",
    "version": 3
   },
   "file_extension": ".py",
   "mimetype": "text/x-python",
   "name": "python",
   "nbconvert_exporter": "python",
   "pygments_lexer": "ipython3",
   "version": "3.9.13"
  }
 },
 "nbformat": 4,
 "nbformat_minor": 5
}
