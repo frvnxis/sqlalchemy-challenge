{
 "cells": [
  {
   "cell_type": "code",
   "execution_count": null,
   "metadata": {},
   "outputs": [],
   "source": [
    "%matplotlib inline\n",
    "from matplotlib import style\n",
    "style.use('fivethirtyeight')\n",
    "import matplotlib.pyplot as plt"
   ]
  },
  {
   "cell_type": "code",
   "execution_count": null,
   "metadata": {},
   "outputs": [],
   "source": [
    "import numpy as np\n",
    "import pandas as pd\n",
    "import datetime as dt"
   ]
  },
  {
   "cell_type": "markdown",
   "metadata": {},
   "source": [
    "# Reflect Tables into SQLAlchemy ORM"
   ]
  },
  {
   "cell_type": "code",
   "execution_count": null,
   "metadata": {},
   "outputs": [],
   "source": [
    "# Python SQL toolkit and Object Relational Mapper\n",
    "import datetime as dt\n",
    "import sqlalchemy\n",
    "import numpy as np\n",
    "import pandas as pd\n",
    "import matplotlib.pyplot as plt\n",
    "\n",
    "import matplotlib.dates as mdates\n",
    "\n",
    "import sqlalchemy\n",
    "from sqlalchemy.ext.automap import automap_base\n",
    "from sqlalchemy.orm import Session\n",
    "from sqlalchemy import create_engine, func"
   ]
  },
  {
   "cell_type": "code",
   "execution_count": null,
   "metadata": {},
   "outputs": [],
   "source": [
    "# create engine to hawaii.sqlite\n",
    "engine = create_engine(\"sqlite:///Resources/hawaii.sqlite\")"
   ]
  },
  {
   "cell_type": "code",
   "execution_count": null,
   "metadata": {},
   "outputs": [],
   "source": [
    "# reflect an existing database into a new model\n",
    "# reflect the tables\n",
    "Base = automap_base()\n",
    "Base.prepare(engine, reflect=True)\n",
    "keys = Base.classes.keys()\n",
    "print(f\"Here are the keys to the kingdom\")\n",
    "print(*keys, sep=\", \")"
   ]
  },
  {
   "cell_type": "code",
   "execution_count": null,
   "metadata": {},
   "outputs": [],
   "source": [
    "# View all of the classes that automap found\n",
    "Measurement= Base.classes.measurement\n",
    "Station = Base.classes.station"
   ]
  },
  {
   "cell_type": "code",
   "execution_count": null,
   "metadata": {},
   "outputs": [],
   "source": [
    "#Find out what are the columns names by calling the dictionary of class Measurement\n",
    "session = Session(engine)\n",
    "measure_first_row = session.query(Measurement).first()\n",
    "measure_first_row.__dict__\n"
   ]
  },
  {
   "cell_type": "markdown",
   "metadata": {},
   "source": [
    "# Exploratory Precipitation Analysis"
   ]
  },
  {
   "cell_type": "code",
   "execution_count": null,
   "metadata": {},
   "outputs": [],
   "source": [
    "# Find the most recent date in the data set.\n",
    "measurement = pd.DataFrame({\"date\":dates,\n",
    "                             \"precipitation\":precip})\n",
    "measurement.dropna(inplace = True)\n",
    "measurement"
   ]
  },
  {
   "cell_type": "code",
   "execution_count": null,
   "metadata": {},
   "outputs": [],
   "source": [
    "# Design a query to retrieve the last 12 months of precipitation data and plot the results. \n",
    "# Starting from the most recent data point in the database. \n",
    "# Calculate the date one year from the last date in data set.\n",
    "# Perform a query to retrieve the data and precipitation scores\n",
    "# Save the query results as a Pandas DataFrame and set the index to the date column\n",
    "# Sort the dataframe by date\n",
    "# Use Pandas Plotting with Matplotlib to plot the data\n",
    "\n",
    "lastdate = session.query(func.max(Measurement.date)).\\\n",
    "            scalar()\n",
    "\n",
    "dt_lastdate= dt.datetime.strptime(lastdate,\"%Y-%m-%d\").date()\n",
    "dt_startdate = dt_lastdate - dt.timedelta(days=365)\n",
    "startdate = dt_startdate.strftime(\"%Y-%m-%d\")\n",
    "\n",
    "query = session.query(Measurement).\\\n",
    "            filter(Measurement.date.between(startdate,lastdate)).\\\n",
    "            all()\n",
    "\n",
    "session.close()"
   ]
  },
  {
   "cell_type": "code",
   "execution_count": null,
   "metadata": {},
   "outputs": [],
   "source": [
    "# Use Pandas to calcualte the summary statistics for the precipitation data\n",
    "dates = []\n",
    "precip = []\n",
    "for row in query:\n",
    "    measurement = row\n",
    "    dates.append(measurement.date)\n",
    "    precip.append(measurement.prcp)"
   ]
  },
  {
   "cell_type": "markdown",
   "metadata": {},
   "source": [
    "# Exploratory Station Analysis"
   ]
  },
  {
   "cell_type": "code",
   "execution_count": null,
   "metadata": {},
   "outputs": [],
   "source": [
    "# Design a query to calculate the total number stations in the dataset\n",
    "measurement = pd.DataFrame({\"date\":dates,\n",
    "                             \"precipitation\":precip})\n",
    "measurement.dropna(inplace = True)\n",
    "measurement"
   ]
  },
  {
   "cell_type": "code",
   "execution_count": null,
   "metadata": {},
   "outputs": [],
   "source": [
    "# Design a query to find the most active stations (i.e. what stations have the most rows?)\n",
    "# List the stations and the counts in descending order.\n",
    "plt.style.use('fivethirtyeight')\n",
    "\n",
    "date = measurement.index\n",
    "MDate = mdates.datestr2num(date)\n",
    "precipitation = measurement['precipitation']\n",
    "\n",
    "#Setting the date form\n",
    "months_fmt = mdates.DateFormatter('%M')\n",
    "\n",
    "#the function subplots\n",
    "fig, ax = plt.subplots()\n",
    "\n",
    "ax.plot(MDate,precipitation,label = 'Precipitation')\n",
    "\n",
    "#setting the location of the format of the x-axis ticks.\n",
    "ax.xaxis.set_major_locator(mdates.MonthLocator())\n",
    "ax.xaxis.set_major_formatter(mdates.DateFormatter('%Y-%m'))\n",
    "fig.autofmt_xdate()\n",
    "\n",
    "#the limits of the x an y axes.\n",
    "datemin = np.datetime64(date[0])\n",
    "datemax = np.datetime64(date[-1])\n",
    "precipmin = precipitation.min()\n",
    "precipmax = precipitation.max() + .25\n",
    "ax.set_xlim(datemin,datemax)\n",
    "ax.set_ylim(precipmin,precipmax)\n",
    "ax.grid(True)\n",
    "ax.legend(loc=9)\n",
    "\n",
    "plt.show()\n"
   ]
  },
  {
   "cell_type": "code",
   "execution_count": null,
   "metadata": {},
   "outputs": [],
   "source": [
    "# Using the most active station id from the previous query, calculate the lowest, highest, and average temperature.\n",
    "top_station = session.query(Measurement.station).\\\n",
    "                group_by(Measurement.station).\\\n",
    "                order_by(func.count(Measurement.station).desc()).\\\n",
    "                first()\n",
    "t_station = top_station.station\n",
    "\n",
    "\n",
    "top_station_stats = session.query(Measurement, \n",
    "                                  func.max(Measurement.tobs).label('max_temp'),\n",
    "                                  func.min(Measurement.tobs).label('min_temp'),\n",
    "                                  func.avg(Measurement.tobs).label('avg_temp'),\n",
    "                                  Station.name.label('sta_name')).\\\n",
    "                    join(Station, Measurement.station==Station.station).\\\n",
    "                    filter(Measurement.station == t_station).\\\n",
    "                    first()\n",
    "\n",
    "print(f'{top_station_stats.sta_name} had a maximum temperature of {top_station_stats.max_temp}')\n",
    "print(f'{top_station_stats.sta_name} had a minimum temperature of {top_station_stats.min_temp}')\n",
    "print(f'{top_station_stats.sta_name} had a average"
   ]
  },
  {
   "cell_type": "code",
   "execution_count": null,
   "metadata": {},
   "outputs": [],
   "source": [
    "# Using the most active station id\n",
    "# Query the last 12 months of temperature observation data for this station and plot the results as a histogram\n",
    "subquery = session.query(Station.station).filter(Station.name.like('%WAIHEE%')).subquery()\n",
    "waihee_last_year = session.query(Measurement).\\\n",
    "                   filter(Measurement.station.in_(subquery)).\\\n",
    "                   filter(Measurement.date.between(startdate,lastdate))\n",
    "session.close()\n"
   ]
  },
  {
   "cell_type": "code",
   "execution_count": null,
   "metadata": {},
   "outputs": [],
   "source": [
    "waihee_tobs = []\n",
    "for row in waihee_last_year:\n",
    "    waihee_tobs.append(row.tobs)"
   ]
  },
  {
   "cell_type": "code",
   "execution_count": null,
   "metadata": {},
   "outputs": [],
   "source": [
    "fig,ax = plt.subplots(tight_layout=True, sharey=True)\n",
    "\n",
    "ax.hist(waihee_tobs,bins=12,label='tobs', color='#a6cee3')\n",
    "\n",
    "\n",
    "ax.set_xlabel('Temperature')\n",
    "ax.set_ylabel('No. of Instances')\n",
    "ax.set_title('No. of Instances of Temperature at Waihee')\n",
    "\n",
    "ax.legend()\n",
    "\n",
    "#Saving the image in png format\n",
    "plt.savefig('results/waihee-histogram.png', dbi=300, bbox_inches='tight')\n",
    "\n",
    "plt.show()"
   ]
  },
  {
   "cell_type": "markdown",
   "metadata": {},
   "source": [
    "# Close session"
   ]
  },
  {
   "cell_type": "code",
   "execution_count": null,
   "metadata": {},
   "outputs": [],
   "source": [
    "# Close Session\n",
    "session.close()"
   ]
  },
  {
   "cell_type": "code",
   "execution_count": null,
   "metadata": {},
   "outputs": [],
   "source": []
  }
 ],
 "metadata": {
  "anaconda-cloud": {},
  "kernel_info": {
   "name": "python3"
  },
  "kernelspec": {
   "display_name": "Python 3",
   "language": "python",
   "name": "python3"
  },
  "language_info": {
   "codemirror_mode": {
    "name": "ipython",
    "version": 3
   },
   "file_extension": ".py",
   "mimetype": "text/x-python",
   "name": "python",
   "nbconvert_exporter": "python",
   "pygments_lexer": "ipython3",
   "version": "3.8.8"
  },
  "nteract": {
   "version": "0.12.3"
  },
  "varInspector": {
   "cols": {
    "lenName": 16,
    "lenType": 16,
    "lenVar": 40
   },
   "kernels_config": {
    "python": {
     "delete_cmd_postfix": "",
     "delete_cmd_prefix": "del ",
     "library": "var_list.py",
     "varRefreshCmd": "print(var_dic_list())"
    },
    "r": {
     "delete_cmd_postfix": ") ",
     "delete_cmd_prefix": "rm(",
     "library": "var_list.r",
     "varRefreshCmd": "cat(var_dic_list()) "
    }
   },
   "types_to_exclude": [
    "module",
    "function",
    "builtin_function_or_method",
    "instance",
    "_Feature"
   ],
   "window_display": false
  }
 },
 "nbformat": 4,
 "nbformat_minor": 2
}
